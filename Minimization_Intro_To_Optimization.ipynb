{
 "cells": [
  {
   "cell_type": "markdown",
   "id": "9cc7cb03-9d7d-4fe2-8e56-8e0ae498e3c2",
   "metadata": {},
   "source": [
    "# Minimization: Intro To Optimization"
   ]
  },
  {
   "cell_type": "markdown",
   "id": "d85c23a7-20dd-49f9-a2d2-b57670d075bb",
   "metadata": {},
   "source": [
    "## Problema 1:"
   ]
  },
  {
   "cell_type": "code",
   "execution_count": 3,
   "id": "7d40b44c-a6dc-454b-8a8f-144580ca39f8",
   "metadata": {},
   "outputs": [
    {
     "data": {
      "text/html": [
       "<iframe src=\"https://docs.google.com/presentation/d/e/2PACX-1vTSq9X74urGAB_5n_MIJ9ZGIboKSvBdokVTBXVLh_qqZnmLRTJioOF431Rzys3Qi9UaFwWXjeq6Wmd5/embed?start=false&loop=false&delayms=3000\" frameborder=\"0\" width=\"960\" height=\"569\" allowfullscreen=\"true\" mozallowfullscreen=\"true\" webkitallowfullscreen=\"true\"></iframe>\n"
      ],
      "text/plain": [
       "<IPython.core.display.HTML object>"
      ]
     },
     "metadata": {},
     "output_type": "display_data"
    }
   ],
   "source": [
    "%%html\n",
    "<iframe src=\"https://docs.google.com/presentation/d/e/2PACX-1vTSq9X74urGAB_5n_MIJ9ZGIboKSvBdokVTBXVLh_qqZnmLRTJioOF431Rzys3Qi9UaFwWXjeq6Wmd5/embed?start=false&loop=false&delayms=3000\" frameborder=\"0\" width=\"960\" height=\"569\" allowfullscreen=\"true\" mozallowfullscreen=\"true\" webkitallowfullscreen=\"true\"></iframe>"
   ]
  },
  {
   "cell_type": "markdown",
   "id": "5fe674b0-841e-4429-be02-eefa9e898eed",
   "metadata": {},
   "source": [
    "## Paso 1: Instalamos las librerías necesarias"
   ]
  },
  {
   "cell_type": "code",
   "execution_count": 5,
   "id": "e90389eb-1622-436f-82a5-2d0a0870bea6",
   "metadata": {},
   "outputs": [
    {
     "name": "stdout",
     "output_type": "stream",
     "text": [
      "Requirement already satisfied: pulp in c:\\users\\usuario\\anaconda3\\lib\\site-packages (2.9.0)\n"
     ]
    }
   ],
   "source": [
    "!pip install pulp"
   ]
  },
  {
   "cell_type": "code",
   "execution_count": 6,
   "id": "18832aac-1988-4b11-8b78-1d21055a6c7a",
   "metadata": {},
   "outputs": [],
   "source": [
    "import pulp as pp"
   ]
  },
  {
   "cell_type": "markdown",
   "id": "dafcf036-81bc-481e-a2d9-7a3c2e2bb039",
   "metadata": {},
   "source": [
    "## Paso 2: Recalcamos que se trata de un ejercicio de minimización de costo"
   ]
  },
  {
   "cell_type": "code",
   "execution_count": 8,
   "id": "d140fc68-7b71-4913-b19d-66110bea97cf",
   "metadata": {},
   "outputs": [],
   "source": [
    "model = pp.LpProblem(name=\"diet-problem\", sense=pp.LpMinimize)"
   ]
  },
  {
   "cell_type": "markdown",
   "id": "a8d3e8b3-a89f-46b2-bd5f-d507d12092d3",
   "metadata": {},
   "source": [
    "## Paso 3: Detallamos variables (cantidad de tabletas de cada suplemento)"
   ]
  },
  {
   "cell_type": "code",
   "execution_count": 10,
   "id": "7abf94a8-c650-4a0b-af5e-1bbda3ee8fb3",
   "metadata": {},
   "outputs": [],
   "source": [
    "VegaVita = pp.LpVariable(name=\"VegaVita\", lowBound=0, cat=\"Integer\")\n",
    "HappyHealth = pp.LpVariable(name=\"HappyHealth\", lowBound=0, cat=\"Integer\")"
   ]
  },
  {
   "cell_type": "markdown",
   "id": "d0b0b4ac-9954-4e20-ae46-d25558445309",
   "metadata": {},
   "source": [
    "## Paso 4: Colocamos los coeficientes de costo por cada suplemento"
   ]
  },
  {
   "cell_type": "code",
   "execution_count": 12,
   "id": "a1096fd2-8584-48c5-ad04-8c82d89cd884",
   "metadata": {},
   "outputs": [],
   "source": [
    "Cost_VegaVita = 0.20  #20 centavos de dolar\n",
    "Cost_HappyHealth = 0.30  #30 centavos de dolar"
   ]
  },
  {
   "cell_type": "markdown",
   "id": "f46f7709-ada0-4289-b62c-21c0d265eaec",
   "metadata": {},
   "source": [
    "## Paso 5: Creamos la función (minimizar el costo total)"
   ]
  },
  {
   "cell_type": "code",
   "execution_count": 14,
   "id": "7b791fc7-2946-42a0-a28a-bd1d85e7ffd0",
   "metadata": {},
   "outputs": [],
   "source": [
    "obj_func = Cost_VegaVita * VegaVita + Cost_HappyHealth * HappyHealth\n",
    "model += obj_func"
   ]
  },
  {
   "cell_type": "markdown",
   "id": "94525039-15b1-49a6-96f1-28a86d139dc2",
   "metadata": {},
   "source": [
    "## Paso 6: Creamos las restricciones "
   ]
  },
  {
   "cell_type": "code",
   "execution_count": 16,
   "id": "9d9de9ca-4c0c-49d5-ae66-ee92b8d6be8f",
   "metadata": {},
   "outputs": [],
   "source": [
    "C1 = pp.LpConstraint(e=20 * VegaVita + 30 * HappyHealth, sense=pp.LpConstraintGE, rhs=60, name=\"VitaminCConstraint\")\n",
    "C2 = pp.LpConstraint(e=500 * VegaVita + 250 * HappyHealth, sense=pp.LpConstraintGE, rhs=1000, name=\"CalciumConstraint\")\n",
    "C3 = pp.LpConstraint(e=9 * VegaVita + 2 * HappyHealth, sense=pp.LpConstraintGE, rhs=18, name=\"IronConstraint\")\n",
    "C4 = pp.LpConstraint(e=2 * VegaVita + 10 * HappyHealth, sense=pp.LpConstraintGE, rhs=20, name=\"NiacinConstraint\")\n",
    "C5 = pp.LpConstraint(e=60 * VegaVita + 90 * HappyHealth, sense=pp.LpConstraintGE, rhs=360, name=\"MagnesiumConstraint\")"
   ]
  },
  {
   "cell_type": "markdown",
   "id": "e7a3fe69-90bd-4fbe-9d4a-cb6399812eee",
   "metadata": {},
   "source": [
    "## Paso 7: Añadimos las restricciones a nuestro modelo"
   ]
  },
  {
   "cell_type": "code",
   "execution_count": 18,
   "id": "6a364e1a-b7f0-4b97-87d3-6ac440875051",
   "metadata": {},
   "outputs": [],
   "source": [
    "model += C1\n",
    "model += C2\n",
    "model += C3\n",
    "model += C4\n",
    "model += C5"
   ]
  },
  {
   "cell_type": "markdown",
   "id": "6f09f2dd-0585-4d3a-83d3-c634ff9fabc9",
   "metadata": {},
   "source": [
    "## Paso 8: Resolvemos el modelo "
   ]
  },
  {
   "cell_type": "code",
   "execution_count": 20,
   "id": "3c534d75-a1c8-4e77-8b50-6b79543f27ef",
   "metadata": {},
   "outputs": [
    {
     "data": {
      "text/plain": [
       "1"
      ]
     },
     "execution_count": 20,
     "metadata": {},
     "output_type": "execute_result"
    }
   ],
   "source": [
    "solverToUse = pp.COIN_CMD(msg=False)\n",
    "model.solve()"
   ]
  },
  {
   "cell_type": "markdown",
   "id": "ff7c096b-6c68-4a59-b208-eba73758552a",
   "metadata": {},
   "source": [
    "## Paso 9: Mostramos los resultados"
   ]
  },
  {
   "cell_type": "code",
   "execution_count": 22,
   "id": "8234ef20-d095-429b-a241-cee71e54c1a5",
   "metadata": {},
   "outputs": [
    {
     "data": {
      "text/plain": [
       "{'Model Status': 'Optimal',\n",
       " 'Optimal Cost': 1.2000000000000002,\n",
       " 'HappyHealth': 2.0,\n",
       " 'VegaVita': 3.0}"
      ]
     },
     "execution_count": 22,
     "metadata": {},
     "output_type": "execute_result"
    }
   ],
   "source": [
    "Results = {\n",
    "    \"Model Status\": pp.LpStatus[model.status],\n",
    "    \"Optimal Cost\": pp.value(model.objective)\n",
    "}\n",
    "Results.update({v.name: v.varValue for v in model.variables()})\n",
    "Results"
   ]
  },
  {
   "cell_type": "code",
   "execution_count": 23,
   "id": "d43f6902-3530-4e1c-b90a-fc897651fdf0",
   "metadata": {},
   "outputs": [
    {
     "data": {
      "text/html": [
       "<style type=\"text/css\">\n",
       "</style>\n",
       "<table id=\"T_b0f35\">\n",
       "  <thead>\n",
       "    <tr>\n",
       "      <th class=\"blank level0\" >&nbsp;</th>\n",
       "      <th id=\"T_b0f35_level0_col0\" class=\"col_heading level0 col0\" >Optimal Cost</th>\n",
       "      <th id=\"T_b0f35_level0_col1\" class=\"col_heading level0 col1\" >HappyHealth</th>\n",
       "      <th id=\"T_b0f35_level0_col2\" class=\"col_heading level0 col2\" >VegaVita</th>\n",
       "    </tr>\n",
       "    <tr>\n",
       "      <th class=\"index_name level0\" >Model Status</th>\n",
       "      <th class=\"blank col0\" >&nbsp;</th>\n",
       "      <th class=\"blank col1\" >&nbsp;</th>\n",
       "      <th class=\"blank col2\" >&nbsp;</th>\n",
       "    </tr>\n",
       "  </thead>\n",
       "  <tbody>\n",
       "    <tr>\n",
       "      <th id=\"T_b0f35_level0_row0\" class=\"row_heading level0 row0\" >Optimal</th>\n",
       "      <td id=\"T_b0f35_row0_col0\" class=\"data row0 col0\" >1.2000000000000002</td>\n",
       "      <td id=\"T_b0f35_row0_col1\" class=\"data row0 col1\" >2.0</td>\n",
       "      <td id=\"T_b0f35_row0_col2\" class=\"data row0 col2\" >3.0</td>\n",
       "    </tr>\n",
       "  </tbody>\n",
       "</table>\n"
      ],
      "text/plain": [
       "<pandas.io.formats.style.Styler at 0x1ab85e69670>"
      ]
     },
     "execution_count": 23,
     "metadata": {},
     "output_type": "execute_result"
    }
   ],
   "source": [
    "import pandas as pd\n",
    "pd.DataFrame.from_dict(Results,orient='index').T.set_index('Model Status').style.format('{:,}')"
   ]
  },
  {
   "cell_type": "markdown",
   "id": "f56a0edf-1fa9-4768-9e4a-b40de8672ee8",
   "metadata": {},
   "source": [
    "Interpretación: El costo total mínimo resulta ser de aproximadamente 1.2. Este es el gasto necesario para cumplir con los requisitos nutricionales diarios usando las cantidades enteras óptimas de Vega Vita y Happy Health. Asimismo, la cantidad óptima de tabletas de Happy Health es 2 unidades, mientras que de Vega Vita resulta ser de 3 unidades."
   ]
  },
  {
   "cell_type": "markdown",
   "id": "672a393d-6263-4837-9c68-61780b79c0f6",
   "metadata": {},
   "source": [
    "# Problema 2: "
   ]
  },
  {
   "cell_type": "code",
   "execution_count": 86,
   "id": "57fe65f3-01d9-4e70-8915-77b9a8f36128",
   "metadata": {},
   "outputs": [
    {
     "data": {
      "text/html": [
       "<iframe src=\"https://docs.google.com/presentation/d/e/2PACX-1vQtBRpIr6Hx1_T0zJ3_DRqsE82YUjx7ZkeEKLdA64fbjtjkmc6Ibf6ebzp6CY69D482IGpG2h9GcsC5/embed?start=false&loop=false&delayms=3000\" frameborder=\"0\" width=\"960\" height=\"569\" allowfullscreen=\"true\" mozallowfullscreen=\"true\" webkitallowfullscreen=\"true\"></iframe>\n"
      ],
      "text/plain": [
       "<IPython.core.display.HTML object>"
      ]
     },
     "metadata": {},
     "output_type": "display_data"
    }
   ],
   "source": [
    "%%html\n",
    "<iframe src=\"https://docs.google.com/presentation/d/e/2PACX-1vQtBRpIr6Hx1_T0zJ3_DRqsE82YUjx7ZkeEKLdA64fbjtjkmc6Ibf6ebzp6CY69D482IGpG2h9GcsC5/embed?start=false&loop=false&delayms=3000\" frameborder=\"0\" width=\"960\" height=\"569\" allowfullscreen=\"true\" mozallowfullscreen=\"true\" webkitallowfullscreen=\"true\"></iframe>"
   ]
  },
  {
   "cell_type": "markdown",
   "id": "48f9154c-3f61-40d1-abe1-9bc8c997da45",
   "metadata": {},
   "source": [
    "## Paso 1: Definimos que se trata de un problema de minimización. En este caso queremos minimizar la cantidad de conductores"
   ]
  },
  {
   "cell_type": "code",
   "execution_count": 27,
   "id": "057a6c22-1033-4338-8fde-b780dc6e453f",
   "metadata": {},
   "outputs": [],
   "source": [
    "model2 = pp.LpProblem(name=\"scheduling_problem\", sense=pp.LpMinimize)"
   ]
  },
  {
   "cell_type": "markdown",
   "id": "b5bcf324-553b-4dc6-ad6e-4848cac116f3",
   "metadata": {},
   "source": [
    "## Paso 2: Declaramos las variables"
   ]
  },
  {
   "cell_type": "markdown",
   "id": "8628dee3-afb0-4b72-9818-edc54f6c8f3e",
   "metadata": {},
   "source": [
    "En esta parte declaramos variables para representar el número de conductores que inician su turno en cada uno de los posibles horarios de inicio: 0, 4, 8, 12, 16 y 20. Tipo: entero no negativo, ya que representan personas. "
   ]
  },
  {
   "cell_type": "code",
   "execution_count": 30,
   "id": "e2b73728-f7c9-46b8-9437-3637f80d989f",
   "metadata": {},
   "outputs": [],
   "source": [
    "shift_0 = pp.LpVariable(name=\"shift_0\", lowBound=0, cat='Integer')\n",
    "shift_4 = pp.LpVariable(name=\"shift_4\", lowBound=0, cat='Integer')\n",
    "shift_8 = pp.LpVariable(name=\"shift_8\", lowBound=0, cat='Integer')\n",
    "shift_12 = pp.LpVariable(name=\"shift_12\", lowBound=0, cat='Integer')\n",
    "shift_16 = pp.LpVariable(name=\"shift_16\", lowBound=0, cat='Integer')\n",
    "shift_20 = pp.LpVariable(name=\"shift_20\", lowBound=0, cat='Integer')"
   ]
  },
  {
   "cell_type": "markdown",
   "id": "20687d9e-3123-4a4a-b8b1-97006faa6c67",
   "metadata": {},
   "source": [
    "## Paso 3: Definimos la función"
   ]
  },
  {
   "cell_type": "code",
   "execution_count": 32,
   "id": "653bd124-1673-4e5c-ae77-e95adaab430a",
   "metadata": {},
   "outputs": [],
   "source": [
    "model2 += (shift_0 + shift_4 + shift_8 + shift_12 + shift_16 + shift_20, \"TotalDrivers\")"
   ]
  },
  {
   "cell_type": "markdown",
   "id": "da316489-e467-4075-b1cc-a3df02e6498d",
   "metadata": {},
   "source": [
    "## Paso 4: Restricciones"
   ]
  },
  {
   "cell_type": "markdown",
   "id": "f45ebe0a-921f-46d4-9448-2b30d8bf76d2",
   "metadata": {},
   "source": [
    "Debemos de tener en cuenta que en cada bloque de 4 horas debe haber suficientes conductores activos (ya sea iniciando el turno o trabajando desde uno anterior) para cubrir la demanda"
   ]
  },
  {
   "cell_type": "markdown",
   "id": "3773fd4a-059e-4103-bb60-ddfb2fbb8a14",
   "metadata": {},
   "source": [
    "0-4  : Se necesitan al menos 4 conductores. Esto puede estar cubierto por los que inician a las 0 horas y los que empiezan a las 20 horas del día anterior"
   ]
  },
  {
   "cell_type": "markdown",
   "id": "952af4a2-aa72-4fd0-bab9-e27594b570d1",
   "metadata": {},
   "source": [
    "4-8  : Se necesitan al menos 8 conductores, cubiertos por lo que inician a las 0 y 4 horas"
   ]
  },
  {
   "cell_type": "markdown",
   "id": "e3a7b0df-2bc7-4c5f-910a-b3e8a2418ec2",
   "metadata": {},
   "source": [
    "8-12 : Se necesitan al menos 10 conductores, cubiertos por los que inician a las 4 y 8 horas"
   ]
  },
  {
   "cell_type": "markdown",
   "id": "ce00a915-ec6e-46a0-a615-57e08d87bb74",
   "metadata": {},
   "source": [
    "12-16: Se necesitan al menos 7 conductores, cubiertos por los que inician a las 8 y 12 horas"
   ]
  },
  {
   "cell_type": "markdown",
   "id": "36543481-a468-4852-92e1-064461cb7844",
   "metadata": {},
   "source": [
    "16-20: Se necesitan al menos 12 conductores, cubiertos por los que inician a las 12 y 16 horas"
   ]
  },
  {
   "cell_type": "markdown",
   "id": "9aec1617-4ca2-4962-b507-efb3286b2aeb",
   "metadata": {},
   "source": [
    "20-24: Se necesitan al menos 4 conductores, cubiertos por los que inician a las 16 y 20 horas"
   ]
  },
  {
   "cell_type": "code",
   "execution_count": 41,
   "id": "a3b7662c-85d7-416d-a8e9-a9bb8efa7d8c",
   "metadata": {},
   "outputs": [],
   "source": [
    "C1 = pp.LpConstraint(e=shift_0 + shift_20, sense=pp.LpConstraintGE, rhs=4, name=\"Demanda_0-4\")\n",
    "C2 = pp.LpConstraint(e=shift_0 + shift_4, sense=pp.LpConstraintGE, rhs=8, name=\"Demanda_4-8\")\n",
    "C3 = pp.LpConstraint(e=shift_4 + shift_8, sense=pp.LpConstraintGE, rhs=10, name=\"Demanda_8-12\")\n",
    "C4 = pp.LpConstraint(e=shift_8 + shift_12, sense=pp.LpConstraintGE, rhs=7, name=\"Demanda_12-16\")\n",
    "C5 = pp.LpConstraint(e=shift_12 + shift_16, sense=pp.LpConstraintGE, rhs=12, name=\"Demanda_16-20\")\n",
    "C6 = pp.LpConstraint(e=shift_16 + shift_20, sense=pp.LpConstraintGE, rhs=4, name=\"Demanda_20-24\")\n",
    "\n",
    "model2 += C1\n",
    "model2 += C2\n",
    "model2 += C3\n",
    "model2 += C4\n",
    "model2 += C5\n",
    "model2 += C6"
   ]
  },
  {
   "cell_type": "markdown",
   "id": "b657c856-6ab9-4bf8-ad5c-5c0c57ffbed9",
   "metadata": {},
   "source": [
    "## Paso 5: Resolver el modelo"
   ]
  },
  {
   "cell_type": "code",
   "execution_count": 66,
   "id": "a435a11d-fbf8-4f75-9554-1213e28d3c40",
   "metadata": {},
   "outputs": [
    {
     "data": {
      "text/plain": [
       "1"
      ]
     },
     "execution_count": 66,
     "metadata": {},
     "output_type": "execute_result"
    }
   ],
   "source": [
    "solver = pp.COIN_CMD(msg=False)\n",
    "model2.solve()"
   ]
  },
  {
   "cell_type": "markdown",
   "id": "aac457a3-612d-4663-8717-cfebd1ca0584",
   "metadata": {},
   "source": [
    "## Paso 6: Los resultados"
   ]
  },
  {
   "cell_type": "code",
   "execution_count": 69,
   "id": "8d70759c-2521-4560-b904-8bff2d15be08",
   "metadata": {},
   "outputs": [
    {
     "data": {
      "text/html": [
       "<style type=\"text/css\">\n",
       "</style>\n",
       "<table id=\"T_968c1\">\n",
       "  <thead>\n",
       "    <tr>\n",
       "      <th class=\"blank level0\" >&nbsp;</th>\n",
       "      <th id=\"T_968c1_level0_col0\" class=\"col_heading level0 col0\" >Total Drivers Needed</th>\n",
       "      <th id=\"T_968c1_level0_col1\" class=\"col_heading level0 col1\" >shift_0</th>\n",
       "      <th id=\"T_968c1_level0_col2\" class=\"col_heading level0 col2\" >shift_12</th>\n",
       "      <th id=\"T_968c1_level0_col3\" class=\"col_heading level0 col3\" >shift_16</th>\n",
       "      <th id=\"T_968c1_level0_col4\" class=\"col_heading level0 col4\" >shift_20</th>\n",
       "      <th id=\"T_968c1_level0_col5\" class=\"col_heading level0 col5\" >shift_4</th>\n",
       "      <th id=\"T_968c1_level0_col6\" class=\"col_heading level0 col6\" >shift_8</th>\n",
       "    </tr>\n",
       "    <tr>\n",
       "      <th class=\"index_name level0\" >Model Status</th>\n",
       "      <th class=\"blank col0\" >&nbsp;</th>\n",
       "      <th class=\"blank col1\" >&nbsp;</th>\n",
       "      <th class=\"blank col2\" >&nbsp;</th>\n",
       "      <th class=\"blank col3\" >&nbsp;</th>\n",
       "      <th class=\"blank col4\" >&nbsp;</th>\n",
       "      <th class=\"blank col5\" >&nbsp;</th>\n",
       "      <th class=\"blank col6\" >&nbsp;</th>\n",
       "    </tr>\n",
       "  </thead>\n",
       "  <tbody>\n",
       "    <tr>\n",
       "      <th id=\"T_968c1_level0_row0\" class=\"row_heading level0 row0\" >Optimal</th>\n",
       "      <td id=\"T_968c1_row0_col0\" class=\"data row0 col0\" >26.0</td>\n",
       "      <td id=\"T_968c1_row0_col1\" class=\"data row0 col1\" >0.0</td>\n",
       "      <td id=\"T_968c1_row0_col2\" class=\"data row0 col2\" >12.0</td>\n",
       "      <td id=\"T_968c1_row0_col3\" class=\"data row0 col3\" >0.0</td>\n",
       "      <td id=\"T_968c1_row0_col4\" class=\"data row0 col4\" >4.0</td>\n",
       "      <td id=\"T_968c1_row0_col5\" class=\"data row0 col5\" >10.0</td>\n",
       "      <td id=\"T_968c1_row0_col6\" class=\"data row0 col6\" >0.0</td>\n",
       "    </tr>\n",
       "  </tbody>\n",
       "</table>\n"
      ],
      "text/plain": [
       "<pandas.io.formats.style.Styler at 0x1ab86957c20>"
      ]
     },
     "execution_count": 69,
     "metadata": {},
     "output_type": "execute_result"
    }
   ],
   "source": [
    "results = {\n",
    "    \"Model Status\": pp.LpStatus[model2.status],\n",
    "    \"Total Drivers Needed\": pp.value(model2.objective)\n",
    "}\n",
    "results.update({v.name: v.varValue for v in model2.variables()})\n",
    "\n",
    "# Mostrar resultados en un DataFrame (opcional)\n",
    "import pandas as pd\n",
    "pd.DataFrame.from_dict(results, orient='index').T.set_index('Model Status').style.format('{:,}')"
   ]
  },
  {
   "cell_type": "code",
   "execution_count": 81,
   "id": "6d44575d-719f-49d1-8c0b-68747ec77a3e",
   "metadata": {},
   "outputs": [
    {
     "data": {
      "text/html": [
       "<style type=\"text/css\">\n",
       "</style>\n",
       "<table id=\"T_49872\">\n",
       "  <thead>\n",
       "    <tr>\n",
       "      <th class=\"blank level0\" >&nbsp;</th>\n",
       "      <th id=\"T_49872_level0_col0\" class=\"col_heading level0 col0\" >Total Drivers Needed</th>\n",
       "      <th id=\"T_49872_level0_col1\" class=\"col_heading level0 col1\" >shift_0</th>\n",
       "      <th id=\"T_49872_level0_col2\" class=\"col_heading level0 col2\" >shift_4</th>\n",
       "      <th id=\"T_49872_level0_col3\" class=\"col_heading level0 col3\" >shift_8</th>\n",
       "      <th id=\"T_49872_level0_col4\" class=\"col_heading level0 col4\" >shift_12</th>\n",
       "      <th id=\"T_49872_level0_col5\" class=\"col_heading level0 col5\" >shift_16</th>\n",
       "      <th id=\"T_49872_level0_col6\" class=\"col_heading level0 col6\" >shift_20</th>\n",
       "    </tr>\n",
       "    <tr>\n",
       "      <th class=\"index_name level0\" >Model Status</th>\n",
       "      <th class=\"blank col0\" >&nbsp;</th>\n",
       "      <th class=\"blank col1\" >&nbsp;</th>\n",
       "      <th class=\"blank col2\" >&nbsp;</th>\n",
       "      <th class=\"blank col3\" >&nbsp;</th>\n",
       "      <th class=\"blank col4\" >&nbsp;</th>\n",
       "      <th class=\"blank col5\" >&nbsp;</th>\n",
       "      <th class=\"blank col6\" >&nbsp;</th>\n",
       "    </tr>\n",
       "  </thead>\n",
       "  <tbody>\n",
       "    <tr>\n",
       "      <th id=\"T_49872_level0_row0\" class=\"row_heading level0 row0\" >Optimal</th>\n",
       "      <td id=\"T_49872_row0_col0\" class=\"data row0 col0\" >26.0</td>\n",
       "      <td id=\"T_49872_row0_col1\" class=\"data row0 col1\" >0.0</td>\n",
       "      <td id=\"T_49872_row0_col2\" class=\"data row0 col2\" >10.0</td>\n",
       "      <td id=\"T_49872_row0_col3\" class=\"data row0 col3\" >0.0</td>\n",
       "      <td id=\"T_49872_row0_col4\" class=\"data row0 col4\" >12.0</td>\n",
       "      <td id=\"T_49872_row0_col5\" class=\"data row0 col5\" >0.0</td>\n",
       "      <td id=\"T_49872_row0_col6\" class=\"data row0 col6\" >4.0</td>\n",
       "    </tr>\n",
       "  </tbody>\n",
       "</table>\n"
      ],
      "text/plain": [
       "<pandas.io.formats.style.Styler at 0x1ab88a01220>"
      ]
     },
     "execution_count": 81,
     "metadata": {},
     "output_type": "execute_result"
    }
   ],
   "source": [
    "#Lo ordenamos\n",
    "df = pd.DataFrame.from_dict(results, orient='index').T\n",
    "\n",
    "# Reordenar las columnas \n",
    "df = df[['Model Status', 'Total Drivers Needed', 'shift_0', 'shift_4', 'shift_8', 'shift_12', 'shift_16', 'shift_20']]\n",
    "df.set_index('Model Status').style.format('{:,}')"
   ]
  },
  {
   "cell_type": "markdown",
   "id": "b77b6fad-d6e5-4316-aebf-9b3cd9868258",
   "metadata": {},
   "source": [
    "En conclusión: \n",
    "Se necesitan 26 conductores en total para cubrir la demanda. La asignación óptima es:\n",
    "10 conductores comienzan a las 4:00 am.\n",
    "12 conductores comienzan a las 12:00 pm.\n",
    "4 conductores comienzan a las 8:00 pm."
   ]
  }
 ],
 "metadata": {
  "kernelspec": {
   "display_name": "Python 3 (ipykernel)",
   "language": "python",
   "name": "python3"
  },
  "language_info": {
   "codemirror_mode": {
    "name": "ipython",
    "version": 3
   },
   "file_extension": ".py",
   "mimetype": "text/x-python",
   "name": "python",
   "nbconvert_exporter": "python",
   "pygments_lexer": "ipython3",
   "version": "3.12.3"
  }
 },
 "nbformat": 4,
 "nbformat_minor": 5
}
